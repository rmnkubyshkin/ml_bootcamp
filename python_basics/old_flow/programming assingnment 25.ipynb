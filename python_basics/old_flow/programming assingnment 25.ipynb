{
  "nbformat": 4,
  "nbformat_minor": 0,
  "metadata": {
    "colab": {
      "provenance": []
    },
    "kernelspec": {
      "name": "python3",
      "display_name": "Python 3"
    },
    "language_info": {
      "name": "python"
    }
  },
  "cells": [
    {
      "cell_type": "code",
      "execution_count": null,
      "metadata": {
        "colab": {
          "base_uri": "https://localhost:8080/"
        },
        "id": "FQJUNZyvcmkz",
        "outputId": "5e394a50-dc34-406e-b071-50399a4231e1"
      },
      "outputs": [
        {
          "output_type": "stream",
          "name": "stdout",
          "text": [
            "0\n"
          ]
        }
      ],
      "source": [
        "#Question1\n",
        "#Create a function that takes three integer arguments (a, b, c) and \n",
        "#returns the amount of integers which are of equal value.\n",
        "\n",
        "def equal(a, b, c):\n",
        "  count = 0\n",
        "  if a == b:\n",
        "    count = 2\n",
        "    if a == c:\n",
        "      count = 3\n",
        "  elif (b == c):\n",
        "    count = 2\n",
        "    if b == a:\n",
        "      count = 3\n",
        "  elif c == a:\n",
        "      count = 2\n",
        "      if a == b:\n",
        "        count = 3\n",
        "  print(count)\n",
        "\n",
        "equal(4,1,3)"
      ]
    },
    {
      "cell_type": "code",
      "source": [
        "#Question2\n",
        "#Write a function that converts a dictionary into a list of keys-values tuples.\n",
        "#Notes\n",
        "#Return the elements in the list in alphabetical order.\n",
        "\n",
        "my_list = {\n",
        "  \"Hello\": 1,\n",
        "  \"my\": 2,\n",
        "  \"friend\": 3\n",
        "}\n",
        "\n",
        "def dict_to_list(_dict):\n",
        "  my_list = []\n",
        "  for i in _dict:\n",
        "    my_list.append((i, _dict[i]))\n",
        "  return my_list\n",
        "\n",
        "m = dict_to_list(my_list)\n",
        "print(m)"
      ],
      "metadata": {
        "colab": {
          "base_uri": "https://localhost:8080/"
        },
        "id": "xGBUX0twfsgI",
        "outputId": "e440fb40-6a41-4365-e918-6b9f29aedf30"
      },
      "execution_count": 1,
      "outputs": [
        {
          "output_type": "stream",
          "name": "stdout",
          "text": [
            "[('Hello', 1), ('my', 2), ('friend', 3)]\n"
          ]
        }
      ]
    },
    {
      "cell_type": "code",
      "source": [
        "#Question3\n",
        "#Write a function that creates a dictionary with each (key, value) pair being the (lower case, upper case) versions of a letter, respectively.\n",
        "\n",
        "#mapping([\"p\", \"s\"]) ➞ { \"p\": \"P\", \"s\": \"S\" }\n",
        "\n",
        "\n",
        "\n",
        "def mapping(entrance_list):\n",
        "  exit_list = []\n",
        "  for i in entrance_list:\n",
        "    lower_case = i.lower()\n",
        "    upper_case = i.upper()\n",
        "    exit_list.append((lower_case, upper_case))\n",
        "  return exit_list\n",
        "\n",
        "entrance = [\"p\", \"o\", \"d\", \"s\"]\n",
        "mapping(entrance)"
      ],
      "metadata": {
        "colab": {
          "base_uri": "https://localhost:8080/"
        },
        "id": "TpKZ6LnnK-2P",
        "outputId": "24798e7c-650c-41f5-ce75-cdd0eb4b501c"
      },
      "execution_count": null,
      "outputs": [
        {
          "output_type": "execute_result",
          "data": {
            "text/plain": [
              "[('p', 'P'), ('o', 'O'), ('d', 'D'), ('s', 'S')]"
            ]
          },
          "metadata": {},
          "execution_count": 34
        }
      ]
    },
    {
      "cell_type": "code",
      "source": [
        "#Question4\n",
        "#Write a function, that replaces all vowels in a string with a specified vowel.\n",
        "phrase = \"mama mila ramu\"\n",
        "def vow_replace(phrase, letter):\n",
        "  list_vowels = ['a', 'e', 'i', 'u']\n",
        "  for i in list_vowels:\n",
        "    print(phrase)\n",
        "    str1 = phrase.replace(i, letter)\n",
        "    phrase = str1\n",
        "  return phrase\n",
        "\n",
        "vow_replace(phrase, \"e\")\n"
      ],
      "metadata": {
        "colab": {
          "base_uri": "https://localhost:8080/",
          "height": 109
        },
        "id": "30rkPD3LU9Nr",
        "outputId": "b88b6ae1-8825-4b54-9ee6-3db0cca3dcf7"
      },
      "execution_count": 31,
      "outputs": [
        {
          "output_type": "stream",
          "name": "stdout",
          "text": [
            "mama mila ramu\n",
            "meme mile remu\n",
            "meme mile remu\n",
            "meme mele remu\n"
          ]
        },
        {
          "output_type": "execute_result",
          "data": {
            "text/plain": [
              "'meme mele reme'"
            ],
            "application/vnd.google.colaboratory.intrinsic+json": {
              "type": "string"
            }
          },
          "metadata": {},
          "execution_count": 31
        }
      ]
    },
    {
      "cell_type": "code",
      "source": [
        "#Question5\n",
        "#Create a function that takes a string as input and capitalizes a letter if its ASCII code is even and returns its lower case version if its ASCII code is odd.\n",
        "input = \"hello my name is roman! Whats up liloo?\"\n",
        "def ascii_capitalize(input):\n",
        "  str1 =\"\"\n",
        "  for i in input:\n",
        "    if ord(i)%2 == 0:\n",
        "      str1 = str1 + i.upper()\n",
        "    else:\n",
        "      str1 = str1 + i\n",
        "  return str1\n",
        "\n",
        "ascii_capitalize(input)"
      ],
      "metadata": {
        "colab": {
          "base_uri": "https://localhost:8080/",
          "height": 36
        },
        "id": "ft4YJPBNaCyr",
        "outputId": "ccac48b8-30e9-49c4-f25e-8389f12e9c9a"
      },
      "execution_count": 34,
      "outputs": [
        {
          "output_type": "execute_result",
          "data": {
            "text/plain": [
              "'HeLLo my Name is RomaN! WHaTs uP LiLoo?'"
            ],
            "application/vnd.google.colaboratory.intrinsic+json": {
              "type": "string"
            }
          },
          "metadata": {},
          "execution_count": 34
        }
      ]
    }
  ]
}