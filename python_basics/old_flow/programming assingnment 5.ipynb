{
  "nbformat": 4,
  "nbformat_minor": 0,
  "metadata": {
    "colab": {
      "provenance": []
    },
    "kernelspec": {
      "name": "python3",
      "display_name": "Python 3"
    },
    "language_info": {
      "name": "python"
    }
  },
  "cells": [
    {
      "cell_type": "code",
      "execution_count": null,
      "metadata": {
        "colab": {
          "base_uri": "https://localhost:8080/"
        },
        "id": "H9-A_qBh1a3-",
        "outputId": "b83ca522-7cbd-4964-ae50-0d073afdd056"
      },
      "outputs": [
        {
          "output_type": "stream",
          "name": "stdout",
          "text": [
            "enter first number: 33\n",
            "enter second number: 2\n",
            "choose operation: 1 - sum, 2 - multply, 3 - division, 4 - subtrac3\n",
            "division of your numbers is: 16.5\n"
          ]
        }
      ],
      "source": [
        "try:\n",
        "  a = int(input(\"enter first number: \"))\n",
        "  b = int(input(\"enter second number: \"))\n",
        "  sum = a + b\n",
        "  multiply = a * b\n",
        "  division = a / b\n",
        "  subtraction = a - b\n",
        "  operation = int(input(\"choose operation: 1 - sum, 2 - multply, 3 - division, 4 - subtrac\"))\n",
        "  if operation == 1:\n",
        "    print(\"sum of your numbers is: {}\".format(sum))\n",
        "  elif operation == 2:\n",
        "    print(\"multiplication of your numbers is: {}\".format(multiply))\n",
        "  elif operation == 3:\n",
        "    print(\"division of your numbers is: {}\".format(division))\n",
        "  elif operation == 4:\n",
        "    print(\"subtraction of your numbers is: {}\".format(subtraction))\n",
        "except ZeroDivisionError as e:\n",
        "  print(\"Error: \" + str(e))"
      ]
    },
    {
      "cell_type": "code",
      "source": [
        "#LCM\n",
        "num1, num2 = input(\"enter two of numbers: \").split()\n",
        "list1, list2 = [], []\n",
        "for i in range(1,15):\n",
        "  list1.append(int(num1)*i)\n",
        "  list2.append(int(num2)*i)\n",
        "for j in list1:\n",
        "  if j in list2:\n",
        "    print(\"Your LCM: \", j)\n",
        "    break"
      ],
      "metadata": {
        "colab": {
          "base_uri": "https://localhost:8080/"
        },
        "id": "d5QH5d2OPztB",
        "outputId": "dc86a0e8-c8f1-4240-feae-c0d422bd0378"
      },
      "execution_count": null,
      "outputs": [
        {
          "output_type": "stream",
          "name": "stdout",
          "text": [
            "enter two of numbers: 60 75\n",
            "Your LCM:  300\n"
          ]
        }
      ]
    },
    {
      "cell_type": "code",
      "source": [
        "#HCF\n",
        "num1, num2 = input(\"enter two of numbers: \").split()\n",
        "list1, list2 = [], []\n",
        "for i in range(int(num1), 1, -1):\n",
        "  list1.append(int(num1) // i)\n",
        "  list2.append(int(num2) // i)\n",
        "num = 0\n",
        "for j in list1:\n",
        "  if j in list2 and j> num:\n",
        "    num = j\n",
        "print(\"Your HCF: \", num)"
      ],
      "metadata": {
        "colab": {
          "base_uri": "https://localhost:8080/"
        },
        "id": "j8YIWGivP1lH",
        "outputId": "27306473-6511-4779-ad8d-eff7b39ca5fd"
      },
      "execution_count": null,
      "outputs": [
        {
          "output_type": "stream",
          "name": "stdout",
          "text": [
            "enter two of numbers: 60 75\n",
            "Your HCF:  15\n"
          ]
        }
      ]
    },
    {
      "cell_type": "code",
      "source": [
        "print(1 % 2)\n",
        "str = input(\"enter: \")\n",
        "print(str[-1:len(str):-1])"
      ],
      "metadata": {
        "colab": {
          "base_uri": "https://localhost:8080/"
        },
        "id": "Xq6XTLD2h-lM",
        "outputId": "ae3991ae-7669-432f-f0d2-55a1e54ef4b4"
      },
      "execution_count": null,
      "outputs": [
        {
          "output_type": "stream",
          "name": "stdout",
          "text": [
            "1\n",
            "enter: 123\n",
            "\n"
          ]
        }
      ]
    },
    {
      "cell_type": "code",
      "source": [
        "#To Convert Decimal to Binary, Octal and Hexadecimal\n",
        "\n",
        "def div(self, i, num):\n",
        "  my_num = num[i] / discharge\n",
        "  if my_num == 0:\n",
        "    return 0\n",
        "  elif my_num == 1:\n",
        "    return 1\n",
        "  else:\n",
        "    return div(i, my_num)\n",
        "\n",
        "    \n",
        "nums = []\n",
        "discharge = 2\n",
        "num = input(\"Enter your num: \")\n",
        "for i in range(len(num)):\n",
        "  if int(num[i]) >= discharge:\n",
        "    my_num = div(i, num)\n",
        "    nums.append(my_num)\n",
        "  #else:\n",
        "    #n = num[i] + num[i+1]\n",
        "    #nums.append(int(n) % 2)\n",
        "nums.reverse()\n",
        "print(nums)\n",
        "\n"
      ],
      "metadata": {
        "id": "1ePOWRMBQDi5"
      },
      "execution_count": null,
      "outputs": []
    },
    {
      "cell_type": "code",
      "source": [
        "#To Convert Decimal to Binary, Octal and Hexadecimal\n",
        "import math\n",
        "binary = []\n",
        "rank = 2\n",
        "num = int(input(\"Enter your num: \"))\n",
        "while num != 0:\n",
        "  if num % rank == 0:\n",
        "    binary.append(0)\n",
        "  else:\n",
        "    if num == 1:\n",
        "      num = 0\n",
        "    binary.append(1)\n",
        "  num = math.floor(num / rank)\n",
        "binary.reverse()\n",
        "print(binary)\n"
      ],
      "metadata": {
        "colab": {
          "base_uri": "https://localhost:8080/"
        },
        "id": "A3-3GApMPBRH",
        "outputId": "9f2b5d66-93ac-4eff-faa8-1a27eaf0be5d"
      },
      "execution_count": 40,
      "outputs": [
        {
          "output_type": "stream",
          "name": "stdout",
          "text": [
            "Enter your num: 8\n",
            "[1, 0, 0, 0]\n"
          ]
        }
      ]
    },
    {
      "cell_type": "code",
      "source": [
        "#To Find ASCII value of a character\n",
        "\n",
        "chr = input(\"Enter your char: \")\n",
        "print(ord(chr))"
      ],
      "metadata": {
        "colab": {
          "base_uri": "https://localhost:8080/"
        },
        "id": "MvUGt99LUhdz",
        "outputId": "00d1d398-e521-4df6-bf72-bcc5c25d158b"
      },
      "execution_count": 44,
      "outputs": [
        {
          "output_type": "stream",
          "name": "stdout",
          "text": [
            "Enter your char: p\n",
            "112\n"
          ]
        }
      ]
    }
  ]
}