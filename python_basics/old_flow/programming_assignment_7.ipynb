{
  "nbformat": 4,
  "nbformat_minor": 0,
  "metadata": {
    "colab": {
      "provenance": []
    },
    "kernelspec": {
      "name": "python3",
      "display_name": "Python 3"
    },
    "language_info": {
      "name": "python"
    }
  },
  "cells": [
    {
      "cell_type": "code",
      "execution_count": null,
      "metadata": {
        "colab": {
          "base_uri": "https://localhost:8080/"
        },
        "id": "uM-dFxjma3TS",
        "outputId": "c834b8b4-b86b-454e-bfd4-66fb019e2854"
      },
      "outputs": [
        {
          "name": "stdout",
          "output_type": "stream",
          "text": [
            "Enter numbers of array: 1 2 3\n"
          ]
        },
        {
          "output_type": "execute_result",
          "data": {
            "text/plain": [
              "6"
            ]
          },
          "metadata": {},
          "execution_count": 17
        }
      ],
      "source": [
        "#1.\tWrite a Python Program to find sum of array?\n",
        "sum(list(map(lambda x: int(x), input(\"Enter numbers of array: \").split())))"
      ]
    },
    {
      "cell_type": "code",
      "source": [
        "#2.\tWrite a Python Program to find largest element in an array?\n",
        "list_of_elem = list(map(lambda x: int(x), input(\"Enter numbers of array: \").split()))\n",
        "list_of_elem.sort()\n",
        "print(f\"Largest element in array: % d\" % list_of_elem[-1])"
      ],
      "metadata": {
        "colab": {
          "base_uri": "https://localhost:8080/"
        },
        "id": "7QdcHxj5a_y0",
        "outputId": "a6c9bcf6-8ec1-48bf-ba72-fd2a1cafd621"
      },
      "execution_count": null,
      "outputs": [
        {
          "output_type": "stream",
          "name": "stdout",
          "text": [
            "Enter numbers of array: 22 55 1\n",
            "Largest element in array:  55\n"
          ]
        }
      ]
    },
    {
      "cell_type": "code",
      "source": [
        "#3.\tWrite a Python Program for array rotation?\n",
        "list_of_elem = list(map(lambda x: int(x), input(\"Enter numbers of array: \").split()))\n",
        "list_of_elem.reverse()\n",
        "print(list_of_elem)"
      ],
      "metadata": {
        "colab": {
          "base_uri": "https://localhost:8080/"
        },
        "id": "0gSzS7_GbAjS",
        "outputId": "b6d72603-21be-4274-e0d1-316962be805e"
      },
      "execution_count": null,
      "outputs": [
        {
          "output_type": "stream",
          "name": "stdout",
          "text": [
            "Enter numbers of array:  1 2 3 4 6\n",
            "[6, 4, 3, 2, 1]\n"
          ]
        }
      ]
    },
    {
      "cell_type": "code",
      "source": [
        "#4.\tWrite a Python Program to Split the array and add the first part to the end?\n",
        "list_of_elem = list(map(lambda x: int(x), input(\"Enter numbers of array: \").split()))\n",
        "\n",
        "for i in range(0, round(len(list_of_elem)/2)):\n",
        "  popped_elem = list_of_elem.pop(0)\n",
        "  list_of_elem.append(popped_elem)\n",
        "  \n",
        "print(list_of_elem)"
      ],
      "metadata": {
        "colab": {
          "base_uri": "https://localhost:8080/"
        },
        "id": "8FNwwud0bBa2",
        "outputId": "5713bd1b-3337-4d61-9e75-d82234da4a8f"
      },
      "execution_count": null,
      "outputs": [
        {
          "output_type": "stream",
          "name": "stdout",
          "text": [
            "Enter numbers of array: 1 2 3 4 5 6 7 8 9 10\n",
            "0\n",
            "1\n",
            "2\n",
            "3\n",
            "4\n",
            "[6, 7, 8, 9, 10, 1, 2, 3, 4, 5]\n"
          ]
        }
      ]
    },
    {
      "cell_type": "code",
      "source": [
        "#5.\tWrite a Python Program to check if given array is Monotonic?\n",
        "\n",
        "array = list(map(lambda x: int(x), input(\"Enter numbers of array: \").split()))\n",
        "num = 1\n",
        "sorted_array = array.copy()\n",
        "sorted_array.sort()\n",
        "rev_sorted_array = array.copy()\n",
        "rev_sorted_array.sort(reverse=True)\n",
        "\n",
        "if array == sorted_array:\n",
        "  print(\"Monotonic\")\n",
        "elif array == rev_sorted_array:\n",
        "    print(\"Monotonic\")\n",
        "else:\n",
        "  print(\"Non monotonic\")"
      ],
      "metadata": {
        "id": "K8bLUuq1bCiW",
        "colab": {
          "base_uri": "https://localhost:8080/"
        },
        "outputId": "7fc42c02-05d7-4b19-9932-32efcdda0c29"
      },
      "execution_count": 14,
      "outputs": [
        {
          "output_type": "stream",
          "name": "stdout",
          "text": [
            "Enter numbers of array: 3 6 5 1\n",
            "Non monotonic\n"
          ]
        }
      ]
    }
  ]
}