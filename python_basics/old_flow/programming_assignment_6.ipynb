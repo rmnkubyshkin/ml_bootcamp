{
  "nbformat": 4,
  "nbformat_minor": 0,
  "metadata": {
    "colab": {
      "provenance": []
    },
    "kernelspec": {
      "name": "python3",
      "display_name": "Python 3"
    },
    "language_info": {
      "name": "python"
    }
  },
  "cells": [
    {
      "cell_type": "code",
      "execution_count": null,
      "metadata": {
        "colab": {
          "base_uri": "https://localhost:8080/"
        },
        "id": "Io8ve7-ctVti",
        "outputId": "de2eaf3e-8d12-49bd-b8d2-53d84599af79"
      },
      "outputs": [
        {
          "output_type": "stream",
          "name": "stdout",
          "text": [
            "Enter number: 10\n",
            "0\n",
            "1\n",
            "1\n",
            "2\n",
            "3\n",
            "5\n",
            "8\n",
            "13\n",
            "21\n",
            "34\n"
          ]
        }
      ],
      "source": [
        "# Write a Python Program to Display Fibonacci Sequence Using Recursion?\n",
        "\n",
        "def fib(n):\n",
        "  if n <= 1:\n",
        "    return n\n",
        "  else:\n",
        "    return (fib(n-1) + fib(n-2))\n",
        "\n",
        "num = int(input(\"Enter number: \"))\n",
        "for i in range(num):\n",
        "  print(fib(i))"
      ]
    },
    {
      "cell_type": "code",
      "source": [
        "# Write a Python Program to Find Factorial of Number Using Recursion?\n",
        "def factorial(n):\n",
        "  if n <= 1:\n",
        "    return n\n",
        "  else:\n",
        "    return (factorial(n-1) * n)\n",
        "\n",
        "num = int(input(\"Enter number: \"))\n",
        "for i in range(num):\n",
        "  print(factorial(i))"
      ],
      "metadata": {
        "colab": {
          "base_uri": "https://localhost:8080/"
        },
        "id": "qHjgNDOp0Xcs",
        "outputId": "25735ba2-0ea9-40fe-dc17-6443155030b7"
      },
      "execution_count": null,
      "outputs": [
        {
          "output_type": "stream",
          "name": "stdout",
          "text": [
            "Enter number: 10\n",
            "0\n",
            "1\n",
            "2\n",
            "6\n",
            "24\n",
            "120\n",
            "720\n",
            "5040\n",
            "40320\n",
            "362880\n"
          ]
        }
      ]
    },
    {
      "cell_type": "code",
      "source": [
        "# Write a Python Program to calculate your Body Mass Index\n",
        "\n",
        "weight, height = input(\"Enter weight(kg) and height(cm): \").split()\n",
        "weight, height = int(weight), int(height)\n",
        "BMI = weight / ((height/ 100) ** 2)\n",
        "print(f\"BMI: %f\" % BMI)"
      ],
      "metadata": {
        "colab": {
          "base_uri": "https://localhost:8080/"
        },
        "id": "OmvdyTtx1N-L",
        "outputId": "dead4dc9-a980-4b88-871a-1a63866c97ea"
      },
      "execution_count": null,
      "outputs": [
        {
          "output_type": "stream",
          "name": "stdout",
          "text": [
            "Enter weight(kg) and height(cm): 65 180\n",
            "BMI: 20.061728\n"
          ]
        }
      ]
    },
    {
      "cell_type": "code",
      "source": [
        "# Write a Python Program for cube sum of first n natural numbers\n",
        "\n",
        "num = int(input(\"Enter number: \"))\n",
        "def cube_sum(num):\n",
        "  if num <= 1:\n",
        "    return num\n",
        "  else:\n",
        "    square_num = pow(num, 3)\n",
        "    return (square_num + cube_sum(num - 1))\n",
        "\n",
        "cube_sum(num)"
      ],
      "metadata": {
        "colab": {
          "base_uri": "https://localhost:8080/"
        },
        "id": "oAMDy1UJ3dl1",
        "outputId": "33042467-a692-48e0-f77d-1041fadd34e6"
      },
      "execution_count": null,
      "outputs": [
        {
          "name": "stdout",
          "output_type": "stream",
          "text": [
            "Enter number: 7\n"
          ]
        },
        {
          "output_type": "execute_result",
          "data": {
            "text/plain": [
              "784"
            ]
          },
          "metadata": {},
          "execution_count": 32
        }
      ]
    },
    {
      "cell_type": "code",
      "source": [
        "# Write a Python Program to calculate the natural logarithm of any number\n",
        "\n",
        "import math\n",
        "num = int(input(\"Enter number: \"))\n",
        "print(f\" Natural logarithm of %d: %f\" % (num, math.log(num)))"
      ],
      "metadata": {
        "colab": {
          "base_uri": "https://localhost:8080/"
        },
        "id": "u256SIag6AKR",
        "outputId": "54bfeda5-b231-4d11-b4e2-b6268617a84c"
      },
      "execution_count": 13,
      "outputs": [
        {
          "output_type": "stream",
          "name": "stdout",
          "text": [
            "Enter number: 30\n",
            " Natural logarithm of 30: 3.401197\n"
          ]
        }
      ]
    }
  ]
}