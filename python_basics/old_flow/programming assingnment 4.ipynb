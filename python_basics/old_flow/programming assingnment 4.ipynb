{
  "nbformat": 4,
  "nbformat_minor": 0,
  "metadata": {
    "colab": {
      "provenance": []
    },
    "kernelspec": {
      "name": "python3",
      "display_name": "Python 3"
    },
    "language_info": {
      "name": "python"
    }
  },
  "cells": [
    {
      "cell_type": "code",
      "source": [
        "fact = 1\n",
        "num = int(input(\"Enter num: \"))\n",
        "while (num!=1):\n",
        "  buf = num - 1\n",
        "  if (fact == 1):\n",
        "    fact = fact*buf*num\n",
        "  else:\n",
        "    fact = fact*buf\n",
        "  num = num - 1\n",
        "print(fact)"
      ],
      "metadata": {
        "colab": {
          "base_uri": "https://localhost:8080/"
        },
        "id": "_S5As-3IwnfA",
        "outputId": "1ed5adc6-1bad-48cf-ff67-8c3ea6126bbf"
      },
      "execution_count": null,
      "outputs": [
        {
          "output_type": "stream",
          "name": "stdout",
          "text": [
            "Enter num: 10\n",
            "3628800\n"
          ]
        }
      ]
    },
    {
      "cell_type": "code",
      "source": [
        "rows = [1, 2, 3, 4, 5, 6, 7, 8, 9]\n",
        "i=0\n",
        "j=1\n",
        "while i < 9:\n",
        "  my_list = [j * x for x in rows]\n",
        "  j = j + 1\n",
        "  print(my_list)\n",
        "  i+=1"
      ],
      "metadata": {
        "colab": {
          "base_uri": "https://localhost:8080/"
        },
        "id": "J4U7ojL3OTwl",
        "outputId": "b1b4c74d-9fe3-4b2f-bac2-9d8a059fb35a"
      },
      "execution_count": null,
      "outputs": [
        {
          "output_type": "stream",
          "name": "stdout",
          "text": [
            "[1, 2, 3, 4, 5, 6, 7, 8, 9]\n",
            "[2, 4, 6, 8, 10, 12, 14, 16, 18]\n",
            "[3, 6, 9, 12, 15, 18, 21, 24, 27]\n",
            "[4, 8, 12, 16, 20, 24, 28, 32, 36]\n",
            "[5, 10, 15, 20, 25, 30, 35, 40, 45]\n",
            "[6, 12, 18, 24, 30, 36, 42, 48, 54]\n",
            "[7, 14, 21, 28, 35, 42, 49, 56, 63]\n",
            "[8, 16, 24, 32, 40, 48, 56, 64, 72]\n",
            "[9, 18, 27, 36, 45, 54, 63, 72, 81]\n"
          ]
        }
      ]
    },
    {
      "cell_type": "code",
      "source": [
        "sequence = [0, 1]\n",
        "num_1 = 0\n",
        "num_2 = 0\n",
        "index = 0\n",
        "boundary = int(input('enter boundary number '))\n",
        "for i in range(boundary):\n",
        "  sequence.append(sequence[i] + sequence[i+1])\n",
        "  print(sequence)"
      ],
      "metadata": {
        "id": "UyPOgtnSUqP6",
        "colab": {
          "base_uri": "https://localhost:8080/"
        },
        "outputId": "07288f79-1df8-49ff-cc01-41a695d8a344"
      },
      "execution_count": 2,
      "outputs": [
        {
          "output_type": "stream",
          "name": "stdout",
          "text": [
            "enter boundary number 5\n",
            "[0, 1, 1]\n",
            "[0, 1, 1, 2]\n",
            "[0, 1, 1, 2, 3]\n",
            "[0, 1, 1, 2, 3, 5]\n",
            "[0, 1, 1, 2, 3, 5, 8]\n"
          ]
        }
      ]
    },
    {
      "cell_type": "code",
      "source": [
        "#371 = 3**3 + 7**3 + 1**3 =371\n",
        "armstrong_num = input('enter  number ')\n",
        "summary = 0\n",
        "for i in range(len(armstrong_num)):\n",
        "  summary = summary + int(armstrong_num[i]) ** int(len(armstrong_num))\n",
        "  print(summary)\n",
        "if (summary == int(armstrong_num)):\n",
        "  print(\"Yea, your num is real armstrong number!\")\n",
        "else:\n",
        "  print(\"sorry, thats not armstrong number, try again\")"
      ],
      "metadata": {
        "colab": {
          "base_uri": "https://localhost:8080/"
        },
        "id": "tKhW039rWG3W",
        "outputId": "0aead6cf-4804-4aaa-db3f-692ec4b823cf"
      },
      "execution_count": null,
      "outputs": [
        {
          "output_type": "stream",
          "name": "stdout",
          "text": [
            "enter  number 1635\n",
            "1\n",
            "1297\n",
            "1378\n",
            "2003\n",
            "sorry, thats not armstrong number, try again\n"
          ]
        }
      ]
    },
    {
      "cell_type": "code",
      "source": [
        "#371 = 3**3 + 7**3 + 1**3 =371\n",
        "first_num = int(input('enter initial interval '))\n",
        "second_num = int(input('enter end of interval '))\n",
        "summary = 0\n",
        "for num in range(first_num, second_num):\n",
        "    number = str(num)\n",
        "    for digit in range(len(number)):\n",
        "      summary = summary + int(number[digit]) ** int(len(number))\n",
        "    number = int(number)\n",
        "    if (str(summary) == str(number)):\n",
        "        print(\"num {} is real armstrong number!\".format(summary))\n",
        "    summary = 0"
      ],
      "metadata": {
        "id": "FTJYHzLoYI6a",
        "colab": {
          "base_uri": "https://localhost:8080/"
        },
        "outputId": "dcf1cb6f-21f9-4deb-dcd1-151ff0b50db1"
      },
      "execution_count": 3,
      "outputs": [
        {
          "output_type": "stream",
          "name": "stdout",
          "text": [
            "enter initial interval 1\n",
            "enter end of interval 2000\n",
            "num 1 is real armstrong number!\n",
            "num 2 is real armstrong number!\n",
            "num 3 is real armstrong number!\n",
            "num 4 is real armstrong number!\n",
            "num 5 is real armstrong number!\n",
            "num 6 is real armstrong number!\n",
            "num 7 is real armstrong number!\n",
            "num 8 is real armstrong number!\n",
            "num 9 is real armstrong number!\n",
            "num 153 is real armstrong number!\n",
            "num 370 is real armstrong number!\n",
            "num 371 is real armstrong number!\n",
            "num 407 is real armstrong number!\n",
            "num 1634 is real armstrong number!\n"
          ]
        }
      ]
    },
    {
      "cell_type": "code",
      "source": [
        "first_num = int(input('enter initial interval of natural numbers '))\n",
        "second_num = int(input('enter end of interval of natural numbers')) + 1\n",
        "liste =[]\n",
        "for i in range(first_num, second_num):\n",
        "  liste.append(i)\n",
        "print(sum(liste))\n"
      ],
      "metadata": {
        "colab": {
          "base_uri": "https://localhost:8080/"
        },
        "id": "r861Yx5aeJXu",
        "outputId": "b6852b2b-6bec-4d0e-f3df-574f1d230ea6"
      },
      "execution_count": null,
      "outputs": [
        {
          "output_type": "stream",
          "name": "stdout",
          "text": [
            "enter initial interval of natural numbers 1\n",
            "enter end of interval of natural numbers4\n",
            "10\n"
          ]
        }
      ]
    }
  ]
}