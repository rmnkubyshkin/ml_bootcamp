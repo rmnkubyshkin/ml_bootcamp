{
  "nbformat": 4,
  "nbformat_minor": 0,
  "metadata": {
    "colab": {
      "provenance": []
    },
    "kernelspec": {
      "name": "python3",
      "display_name": "Python 3"
    },
    "language_info": {
      "name": "python"
    }
  },
  "cells": [
    {
      "cell_type": "code",
      "source": [
        "list_nums = []\n",
        "sum = 0\n",
        "list_nums = input(\"Enter five numbers through space: \").split()\n",
        "\n",
        "for num in list_nums:\n",
        "  print(num, \" \", end=\"\")\n",
        "  sum +=int(num)\n",
        "print(\"\\nYour sum is: \",sum)"
      ],
      "metadata": {
        "colab": {
          "base_uri": "https://localhost:8080/"
        },
        "id": "X3TMaYylDvFz",
        "outputId": "d0f562c3-c9cf-42df-ff5a-b0d06ca0bd22"
      },
      "execution_count": 15,
      "outputs": [
        {
          "output_type": "stream",
          "name": "stdout",
          "text": [
            "Enter five numbers through space: 1 2 3 4 5\n",
            "1  2  3  4  5  \n",
            "Your sum is:  15\n"
          ]
        }
      ]
    },
    {
      "cell_type": "code",
      "source": [
        "i = 0\n",
        "nums_list = []\n",
        "while i < 5:\n",
        "  num = input(\"Enter your num: \")\n",
        "  if ( num in nums_list):\n",
        "    print(\"Item already present, try again, thanks!\")\n",
        "    continue\n",
        "  else:\n",
        "    nums_list.append(num)\n",
        "    i+=1\n",
        "print(\"Your list: \",nums_list)\n",
        "\n"
      ],
      "metadata": {
        "colab": {
          "base_uri": "https://localhost:8080/"
        },
        "id": "QJYigTPXGAIT",
        "outputId": "439facda-6c4c-4ff4-a0f2-85ade669fcef"
      },
      "execution_count": 19,
      "outputs": [
        {
          "output_type": "stream",
          "name": "stdout",
          "text": [
            "Enter your num: 1\n",
            "Enter your num: 2\n",
            "Enter your num: 3\n",
            "Enter your num: 4\n",
            "Enter your num: 5\n",
            "Yor list:  ['1', '2', '3', '4', '5']\n"
          ]
        }
      ]
    },
    {
      "cell_type": "code",
      "source": [
        "list_nums_1 = []\n",
        "list_nums_1 = input(\"Enter five numbers through space for first list: \").split()\n",
        "list_nums_2 = []\n",
        "list_nums_2 = input(\"Enter five numbers through space for second list: \").split()\n",
        "count = 0\n",
        "common_list = []\n",
        "for num in list_nums_1:\n",
        "  if num in list_nums_2:\n",
        "    count+=1\n",
        "    common_list.append(num)\n",
        "print(\"Count of common items is: \", count)\n",
        "print(\"Common items: \", common_list)\n",
        "  "
      ],
      "metadata": {
        "colab": {
          "base_uri": "https://localhost:8080/"
        },
        "id": "7RuB1itlHcgm",
        "outputId": "3e8643ee-d326-41bf-e5ae-b6b24c277b08"
      },
      "execution_count": 21,
      "outputs": [
        {
          "output_type": "stream",
          "name": "stdout",
          "text": [
            "Enter five numbers through space for first list: 1 2 3 4 5\n",
            "Enter five numbers through space for second list: 2 3 4 5 6\n",
            "Count of common items is:  4\n",
            "Common items:  ['2', '3', '4', '5']\n"
          ]
        }
      ]
    }
  ]
}