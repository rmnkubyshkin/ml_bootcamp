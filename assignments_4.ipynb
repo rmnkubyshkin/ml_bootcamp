{
  "nbformat": 4,
  "nbformat_minor": 0,
  "metadata": {
    "colab": {
      "provenance": [],
      "authorship_tag": "ABX9TyNFkGbatbZLr99YSKmx9XCj",
      "include_colab_link": true
    },
    "kernelspec": {
      "name": "python3",
      "display_name": "Python 3"
    },
    "language_info": {
      "name": "python"
    }
  },
  "cells": [
    {
      "cell_type": "markdown",
      "metadata": {
        "id": "view-in-github",
        "colab_type": "text"
      },
      "source": [
        "<a href=\"https://colab.research.google.com/github/rmnkubyshkin/ml_bootcamp/blob/main/assignments_4.ipynb\" target=\"_parent\"><img src=\"https://colab.research.google.com/assets/colab-badge.svg\" alt=\"Open In Colab\"/></a>"
      ]
    },
    {
      "cell_type": "code",
      "execution_count": 4,
      "metadata": {
        "colab": {
          "base_uri": "https://localhost:8080/"
        },
        "id": "grJjXNurllTU",
        "outputId": "157e4258-1fb3-44c1-f675-c7f87a559b3b"
      },
      "outputs": [
        {
          "output_type": "stream",
          "name": "stdout",
          "text": [
            "enter first number: 10\n",
            "enter second number: 9\n",
            "Your sum: 19\n"
          ]
        }
      ],
      "source": [
        "#●\tWAP to accept two numbers from the user and display their sum\n",
        "\n",
        "a = input(\"enter first number: \")\n",
        "b = input(\"enter second number: \")\n",
        "c = int(a) + int(b)\n",
        "print(\"Your sum: {}\".format(c))"
      ]
    },
    {
      "cell_type": "code",
      "source": [
        "#●\tWAP to accept radius of a Circle from the user and calculate area and circumference\n",
        "\n",
        "r = input(\"enter radius: \")\n",
        "pi = 3.14\n",
        "area = pi*int(r)**2\n",
        "circumference = 2*pi*int(r)\n",
        "print(\"Your area of circle is: {},\\nYour circumference of circle is: {}.\".format(area, circumference))"
      ],
      "metadata": {
        "colab": {
          "base_uri": "https://localhost:8080/"
        },
        "id": "QjWWWZzzmSjn",
        "outputId": "58a3d17f-e77e-42ee-f6d4-45f60efb6c0c"
      },
      "execution_count": 12,
      "outputs": [
        {
          "output_type": "stream",
          "name": "stdout",
          "text": [
            "enter radius: 3\n",
            "Your area of circle is: 28.26,\n",
            "Your circumference of circle is: 18.84.\n"
          ]
        }
      ]
    },
    {
      "cell_type": "code",
      "source": [
        "#guessing game\n",
        "\n",
        "import random\n",
        "\n",
        "rand_numb = random.randint(0, 1000)\n",
        "\n",
        "\n",
        "while True:\n",
        "  print(\"NOTICE:If you want to exit from game enter '0' or some negative number\")\n",
        "  guess_numb = int(input(\"Guess the number: \"))\n",
        "  if (guess_numb <= 0):\n",
        "    print(\"You are not in the game. Goodbye!\")\n",
        "    break\n",
        "  elif(guess_numb == rand_numb):\n",
        "    print(\"Congratulations! You guessed it right\")\n",
        "    break\n",
        "  elif(guess_numb > rand_numb):\n",
        "    print(\"Number too large\")\n",
        "  elif(guess_numb < rand_numb):\n",
        "    print(\"Number too small\")"
      ],
      "metadata": {
        "colab": {
          "base_uri": "https://localhost:8080/"
        },
        "id": "3zS3yGn6ns-x",
        "outputId": "eeb5d776-46c0-4643-f0eb-96c421819cf4"
      },
      "execution_count": 24,
      "outputs": [
        {
          "output_type": "stream",
          "name": "stdout",
          "text": [
            "NOTICE:If you want exit from game enter '0' or some negative number\n",
            "Guess the number: -3333333\n",
            "You are not in the game. Goodbye!\n"
          ]
        }
      ]
    },
    {
      "cell_type": "code",
      "source": [
        "#vertically string without vowels\n",
        "\n",
        "_str = input(\"Enter string: \")\n",
        "vowels_list = [\"a\", \"e\", \"i\", \"o\", \"u\", \"w\", \"y\"]\n",
        "for i in range(len(_str)):\n",
        "  if (_str[i] in vowels_list):\n",
        "    pass\n",
        "  else:\n",
        "    print (_str[i],end='\\n')"
      ],
      "metadata": {
        "id": "io8z3DpctVCk"
      },
      "execution_count": null,
      "outputs": []
    },
    {
      "cell_type": "code",
      "source": [
        "sum = 0\n",
        "while True:\n",
        "  x = int(input(\"enter number:\"))\n",
        "  if (x == 0):\n",
        "    print(sum)\n",
        "    break\n",
        "  elif(x < 0):\n",
        "    pass\n",
        "  else:\n",
        "    sum+=x"
      ],
      "metadata": {
        "id": "_gZjnt03vAcf"
      },
      "execution_count": null,
      "outputs": []
    },
    {
      "cell_type": "code",
      "source": [
        "\n",
        "num = int(input(\"Enter num: \"))\n",
        "for i in range(1, num+1):\n",
        "    i+=i\n",
        "print(i)"
      ],
      "metadata": {
        "id": "YJ_M18fkv13k"
      },
      "execution_count": null,
      "outputs": []
    },
    {
      "cell_type": "code",
      "source": [
        "fact = 1\n",
        "num = int(input(\"Enter num: \"))\n",
        "while (num!=1):\n",
        "  buf = num - 1\n",
        "  if (fact == 1):\n",
        "    fact = fact*buf*num\n",
        "  else:\n",
        "    fact = fact*buf\n",
        "  num = num - 1\n",
        "print(fact)"
      ],
      "metadata": {
        "colab": {
          "base_uri": "https://localhost:8080/"
        },
        "id": "_S5As-3IwnfA",
        "outputId": "1ed5adc6-1bad-48cf-ff67-8c3ea6126bbf"
      },
      "execution_count": 50,
      "outputs": [
        {
          "output_type": "stream",
          "name": "stdout",
          "text": [
            "Enter num: 10\n",
            "3628800\n"
          ]
        }
      ]
    },
    {
      "cell_type": "code",
      "source": [
        "for i in range(4):\n",
        "  print(\"***\",end='\\n')"
      ],
      "metadata": {
        "colab": {
          "base_uri": "https://localhost:8080/"
        },
        "id": "jYTC5_2Sy9W7",
        "outputId": "e0ce2532-ff14-48d4-96b1-2c459b7c10aa"
      },
      "execution_count": 51,
      "outputs": [
        {
          "output_type": "stream",
          "name": "stdout",
          "text": [
            "***\n",
            "***\n",
            "***\n",
            "***\n"
          ]
        }
      ]
    },
    {
      "cell_type": "code",
      "source": [
        "for i in range(5):\n",
        "  print(\"*\"*i,end='\\n')"
      ],
      "metadata": {
        "colab": {
          "base_uri": "https://localhost:8080/"
        },
        "id": "tYQGposPzU7w",
        "outputId": "d97228c9-4cd2-4696-d950-584e06226cfc"
      },
      "execution_count": 53,
      "outputs": [
        {
          "output_type": "stream",
          "name": "stdout",
          "text": [
            "\n",
            "*\n",
            "**\n",
            "***\n",
            "****\n"
          ]
        }
      ]
    },
    {
      "cell_type": "code",
      "source": [
        "for i in range(4,0,-1):\n",
        "  print(\"*\"*i,end='\\n')"
      ],
      "metadata": {
        "colab": {
          "base_uri": "https://localhost:8080/"
        },
        "id": "viKuUKFTzbT-",
        "outputId": "42c577b9-fa1a-441d-9e68-7248557e703b"
      },
      "execution_count": 55,
      "outputs": [
        {
          "output_type": "stream",
          "name": "stdout",
          "text": [
            "****\n",
            "***\n",
            "**\n",
            "*\n"
          ]
        }
      ]
    },
    {
      "cell_type": "code",
      "source": [
        "print(\"NOTICE:If you want to exit, please enter '0'\")\n",
        "\n",
        "while True:\n",
        "  x = int(input(\"enter number:\"))\n",
        "  if(x == 0):\n",
        "      break\n",
        "  elif(x < 0):\n",
        "      print(\"Sorry, entered negative number, please try again\\n\")\n",
        "      continue\n",
        "  for i in range(1, x+1):\n",
        "    print(i)"
      ],
      "metadata": {
        "id": "03N1eSCjznW8"
      },
      "execution_count": null,
      "outputs": []
    }
  ]
}